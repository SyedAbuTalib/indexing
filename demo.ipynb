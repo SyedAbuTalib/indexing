{
 "cells": [
  {
   "cell_type": "code",
   "execution_count": 1,
   "metadata": {},
   "outputs": [],
   "source": [
    "import urllib.request\n",
    "import json"
   ]
  },
  {
   "cell_type": "code",
   "execution_count": 2,
   "metadata": {},
   "outputs": [],
   "source": [
    "import urllib.request\n",
    "import urllib.parse\n",
    "import json\n",
    "import pprint\n",
    "\n",
    "class CoreApiRequestor:\n",
    "\n",
    "    def __init__(self, endpoint, api_key):\n",
    "        self.endpoint = endpoint\n",
    "        self.api_key = api_key\n",
    "        #defaults\n",
    "        self.pagesize = 100\n",
    "        self.page = 1\n",
    "\n",
    "    def parse_response(self, decoded):\n",
    "        res = []\n",
    "        for item in decoded['data']:\n",
    "            doi = None\n",
    "            if 'identifiers' in item:\n",
    "                for identifier in item['identifiers']:\n",
    "                    if identifier and identifier.startswith('doi:'):\n",
    "                        doi = identifier\n",
    "                        break\n",
    "            res.append([item['title'], doi])\n",
    "        return res\n",
    "\n",
    "    def request_url(self, url):\n",
    "        with urllib.request.urlopen(url) as response:\n",
    "            html = response.read()\n",
    "        return html\n",
    "\n",
    "    def get_method_query_request_url(self,method,query,fullText,page):\n",
    "        if (fullText):\n",
    "            fullText = 'true'\n",
    "        else:\n",
    "            fullText = 'false'\n",
    "        params = {\n",
    "            'apiKey':self.api_key,\n",
    "            'page':page,\n",
    "            'pageSize':self.pagesize,\n",
    "            'fulltext':fullText,\n",
    "            'urls': 'true'\n",
    "        }\n",
    "        return self.endpoint + method + '/' + urllib.parse.quote(query) + '?' + urllib.parse.urlencode(params)\n",
    "\n",
    "    def get_up_to_20_pages_of_query(self,method,query,fulltext):\n",
    "        url = self.get_method_query_request_url(method,query,fulltext,1)\n",
    "        all_articles=[]\n",
    "        resp = self.request_url(url)\n",
    "        result = json.loads(resp.decode('utf-8'))\n",
    "        all_articles.append(result)\n",
    "        if (result['totalHits']>100):\n",
    "            numOfPages = int(result['totalHits']/self.pagesize)  #rounds down\n",
    "            if (numOfPages>20):\n",
    "                numOfPages=20\n",
    "            for i in range(2,numOfPages):\n",
    "                url = self.get_method_query_request_url(method,query,False,i)\n",
    "                print(url)\n",
    "                resp =self.request_url(url)\n",
    "                all_articles.append(json.loads(resp.decode('utf-8')))\n",
    "        return all_articles"
   ]
  },
  {
   "cell_type": "code",
   "execution_count": 3,
   "metadata": {},
   "outputs": [],
   "source": [
    "endpoint = 'https://core.ac.uk/api-v2'\n",
    "\n",
    "api_key = '5TphODMbCjoQUkWitNZSBVqsEeYlHfnI'\n",
    "\n",
    "method = '/articles/search'\n",
    "topic = '*'\n",
    "\n",
    "api = CoreApiRequestor(endpoint, api_key)"
   ]
  },
  {
   "cell_type": "code",
   "execution_count": 4,
   "metadata": {},
   "outputs": [
    {
     "data": {
      "text/plain": [
       "'https://core.ac.uk/api-v2/articles/search/%2A?apiKey=5TphODMbCjoQUkWitNZSBVqsEeYlHfnI&page=1&pageSize=100&fulltext=false&urls=true'"
      ]
     },
     "execution_count": 4,
     "metadata": {},
     "output_type": "execute_result"
    }
   ],
   "source": [
    "url = api.get_method_query_request_url(method, topic, False, 1)\n",
    "url"
   ]
  },
  {
   "cell_type": "code",
   "execution_count": 5,
   "metadata": {},
   "outputs": [
    {
     "name": "stdout",
     "output_type": "stream",
     "text": [
      "https://core.ac.uk/api-v2/articles/search/%2A?apiKey=5TphODMbCjoQUkWitNZSBVqsEeYlHfnI&page=2&pageSize=100&fulltext=false&urls=true\n",
      "https://core.ac.uk/api-v2/articles/search/%2A?apiKey=5TphODMbCjoQUkWitNZSBVqsEeYlHfnI&page=3&pageSize=100&fulltext=false&urls=true\n",
      "https://core.ac.uk/api-v2/articles/search/%2A?apiKey=5TphODMbCjoQUkWitNZSBVqsEeYlHfnI&page=4&pageSize=100&fulltext=false&urls=true\n",
      "https://core.ac.uk/api-v2/articles/search/%2A?apiKey=5TphODMbCjoQUkWitNZSBVqsEeYlHfnI&page=5&pageSize=100&fulltext=false&urls=true\n",
      "https://core.ac.uk/api-v2/articles/search/%2A?apiKey=5TphODMbCjoQUkWitNZSBVqsEeYlHfnI&page=6&pageSize=100&fulltext=false&urls=true\n",
      "https://core.ac.uk/api-v2/articles/search/%2A?apiKey=5TphODMbCjoQUkWitNZSBVqsEeYlHfnI&page=7&pageSize=100&fulltext=false&urls=true\n",
      "https://core.ac.uk/api-v2/articles/search/%2A?apiKey=5TphODMbCjoQUkWitNZSBVqsEeYlHfnI&page=8&pageSize=100&fulltext=false&urls=true\n",
      "https://core.ac.uk/api-v2/articles/search/%2A?apiKey=5TphODMbCjoQUkWitNZSBVqsEeYlHfnI&page=9&pageSize=100&fulltext=false&urls=true\n",
      "https://core.ac.uk/api-v2/articles/search/%2A?apiKey=5TphODMbCjoQUkWitNZSBVqsEeYlHfnI&page=10&pageSize=100&fulltext=false&urls=true\n",
      "https://core.ac.uk/api-v2/articles/search/%2A?apiKey=5TphODMbCjoQUkWitNZSBVqsEeYlHfnI&page=11&pageSize=100&fulltext=false&urls=true\n",
      "https://core.ac.uk/api-v2/articles/search/%2A?apiKey=5TphODMbCjoQUkWitNZSBVqsEeYlHfnI&page=12&pageSize=100&fulltext=false&urls=true\n",
      "https://core.ac.uk/api-v2/articles/search/%2A?apiKey=5TphODMbCjoQUkWitNZSBVqsEeYlHfnI&page=13&pageSize=100&fulltext=false&urls=true\n",
      "https://core.ac.uk/api-v2/articles/search/%2A?apiKey=5TphODMbCjoQUkWitNZSBVqsEeYlHfnI&page=14&pageSize=100&fulltext=false&urls=true\n",
      "https://core.ac.uk/api-v2/articles/search/%2A?apiKey=5TphODMbCjoQUkWitNZSBVqsEeYlHfnI&page=15&pageSize=100&fulltext=false&urls=true\n",
      "https://core.ac.uk/api-v2/articles/search/%2A?apiKey=5TphODMbCjoQUkWitNZSBVqsEeYlHfnI&page=16&pageSize=100&fulltext=false&urls=true\n",
      "https://core.ac.uk/api-v2/articles/search/%2A?apiKey=5TphODMbCjoQUkWitNZSBVqsEeYlHfnI&page=17&pageSize=100&fulltext=false&urls=true\n",
      "https://core.ac.uk/api-v2/articles/search/%2A?apiKey=5TphODMbCjoQUkWitNZSBVqsEeYlHfnI&page=18&pageSize=100&fulltext=false&urls=true\n",
      "https://core.ac.uk/api-v2/articles/search/%2A?apiKey=5TphODMbCjoQUkWitNZSBVqsEeYlHfnI&page=19&pageSize=100&fulltext=false&urls=true\n"
     ]
    },
    {
     "ename": "AttributeError",
     "evalue": "'list' object has no attribute 'decode'",
     "output_type": "error",
     "traceback": [
      "\u001b[0;31m---------------------------------------------------------------------------\u001b[0m",
      "\u001b[0;31mAttributeError\u001b[0m                            Traceback (most recent call last)",
      "\u001b[0;32m<ipython-input-5-e7af7d031bb2>\u001b[0m in \u001b[0;36m<module>\u001b[0;34m\u001b[0m\n\u001b[1;32m      1\u001b[0m \u001b[0mresult\u001b[0m \u001b[0;34m=\u001b[0m \u001b[0mapi\u001b[0m\u001b[0;34m.\u001b[0m\u001b[0mget_up_to_20_pages_of_query\u001b[0m\u001b[0;34m(\u001b[0m\u001b[0mmethod\u001b[0m\u001b[0;34m,\u001b[0m \u001b[0mtopic\u001b[0m\u001b[0;34m,\u001b[0m \u001b[0;32mFalse\u001b[0m\u001b[0;34m)\u001b[0m\u001b[0;34m\u001b[0m\u001b[0;34m\u001b[0m\u001b[0m\n\u001b[0;32m----> 2\u001b[0;31m \u001b[0mj\u001b[0m \u001b[0;34m=\u001b[0m \u001b[0mjson\u001b[0m\u001b[0;34m.\u001b[0m\u001b[0mloads\u001b[0m\u001b[0;34m(\u001b[0m\u001b[0mresult\u001b[0m\u001b[0;34m.\u001b[0m\u001b[0mdecode\u001b[0m\u001b[0;34m(\u001b[0m\u001b[0;34m'utf-8'\u001b[0m\u001b[0;34m)\u001b[0m\u001b[0;34m)\u001b[0m\u001b[0;34m\u001b[0m\u001b[0;34m\u001b[0m\u001b[0m\n\u001b[0m\u001b[1;32m      3\u001b[0m \u001b[0md\u001b[0m \u001b[0;34m=\u001b[0m \u001b[0mj\u001b[0m\u001b[0;34m[\u001b[0m\u001b[0;34m'data'\u001b[0m\u001b[0;34m]\u001b[0m\u001b[0;34m\u001b[0m\u001b[0;34m\u001b[0m\u001b[0m\n\u001b[1;32m      4\u001b[0m \u001b[0md\u001b[0m\u001b[0;34m\u001b[0m\u001b[0;34m\u001b[0m\u001b[0m\n",
      "\u001b[0;31mAttributeError\u001b[0m: 'list' object has no attribute 'decode'"
     ]
    }
   ],
   "source": [
    "result = api.get_up_to_20_pages_of_query(method, topic, False)\n",
    "j = json.loads(result.decode('utf-8'))\n",
    "d = j['data']\n",
    "d"
   ]
  },
  {
   "cell_type": "code",
   "execution_count": 6,
   "metadata": {},
   "outputs": [
    {
     "name": "stdout",
     "output_type": "stream",
     "text": [
      "<class 'dict'>\n",
      "Escola catalana\n"
     ]
    }
   ],
   "source": [
    "print(type(result[0]))\n",
    "print(result[0]['data'][0]['title'])"
   ]
  },
  {
   "cell_type": "code",
   "execution_count": 7,
   "metadata": {},
   "outputs": [
    {
     "data": {
      "text/plain": [
       "{'id': '227381854',\n",
       " 'authors': ['Huisman, Drs. JJ (ProRail bv)'],\n",
       " 'contributors': ['van der A, Drs. SJH (ProRail bv)'],\n",
       " 'datePublished': '20170626-01-01T00:00:00.000+01:00',\n",
       " 'description': 'Een archeologisch bureauonderzoek t.b.v. de voorgenomen wijziging van het opstelterrein te Lelystad',\n",
       " 'identifiers': ['oai:easy.dans.knaw.nl:easy-dataset:73135',\n",
       "  '10.17026/dans-xge-a3yq'],\n",
       " 'publisher': 'ProRail bv',\n",
       " 'relations': [],\n",
       " 'repositories': [{'id': '5577',\n",
       "   'openDoarId': 0,\n",
       "   'name': 'Electronic Archiving System',\n",
       "   'uri': None,\n",
       "   'urlHomepage': None,\n",
       "   'urlOaipmh': None,\n",
       "   'uriJournals': None,\n",
       "   'physicalName': 'noname',\n",
       "   'source': None,\n",
       "   'software': None,\n",
       "   'metadataFormat': None,\n",
       "   'description': None,\n",
       "   'journal': None,\n",
       "   'roarId': 0,\n",
       "   'baseId': 0,\n",
       "   'pdfStatus': None,\n",
       "   'nrUpdates': 0,\n",
       "   'disabled': False,\n",
       "   'lastUpdateTime': None,\n",
       "   'repositoryLocation': None}],\n",
       " 'repositoryDocument': {'pdfStatus': 0,\n",
       "  'metadataAdded': 1567968358000,\n",
       "  'metadataUpdated': 1594426265000,\n",
       "  'depositedDate': 1567008615000},\n",
       " 'subjects': ['Text'],\n",
       " 'title': 'Bureauonderzoek archeologie Lelystad opstelterrein',\n",
       " 'topics': ['Archaeology'],\n",
       " 'types': [],\n",
       " 'year': 20170626,\n",
       " 'fulltextUrls': ['https://core.ac.uk/display/227381854',\n",
       "  'https://easy.dans.knaw.nl/ui/datasets/id/easy-dataset:73135'],\n",
       " 'doi': '10.17026/dans-xge-a3yq',\n",
       " 'oai': 'oai:easy.dans.knaw.nl:easy-dataset:73135',\n",
       " 'downloadUrl': ''}"
      ]
     },
     "execution_count": 7,
     "metadata": {},
     "output_type": "execute_result"
    }
   ],
   "source": [
    "result[0]['data'][99]"
   ]
  },
  {
   "cell_type": "code",
   "execution_count": 8,
   "metadata": {},
   "outputs": [],
   "source": [
    "def clean(result):\n",
    "    mega_json = []\n",
    "    for p in result:\n",
    "        for a in p['data']:\n",
    "            try:\n",
    "                obj = {}\n",
    "                k = ['authors', 'title', 'description', 'datePublished', 'fulltextUrls', 'journal']\n",
    "                for i in k:\n",
    "                    if i in a:\n",
    "                        obj[i] = a[i]\n",
    "                if 'fulltextUrls' in obj:\n",
    "                    obj['url'] = obj.pop('fulltextUrls')\n",
    "#             print(a['title'])\n",
    "                mega_json.append(obj)\n",
    "            except:\n",
    "                print('try again')\n",
    "    return mega_json\n",
    "\n",
    "cleaned_data = clean(result)"
   ]
  },
  {
   "cell_type": "code",
   "execution_count": 9,
   "metadata": {},
   "outputs": [
    {
     "data": {
      "text/plain": [
       "1900"
      ]
     },
     "execution_count": 9,
     "metadata": {},
     "output_type": "execute_result"
    }
   ],
   "source": [
    "cleaned_data\n",
    "len(cleaned_data)"
   ]
  },
  {
   "cell_type": "code",
   "execution_count": 10,
   "metadata": {},
   "outputs": [],
   "source": [
    "from elasticsearch import Elasticsearch"
   ]
  },
  {
   "cell_type": "code",
   "execution_count": 11,
   "metadata": {},
   "outputs": [
    {
     "name": "stdout",
     "output_type": "stream",
     "text": [
      "0\n",
      "1\n",
      "2\n",
      "3\n",
      "4\n",
      "5\n",
      "6\n",
      "7\n",
      "8\n",
      "9\n",
      "10\n",
      "11\n",
      "12\n",
      "13\n",
      "14\n",
      "15\n",
      "16\n",
      "17\n",
      "18\n",
      "19\n",
      "20\n",
      "21\n",
      "22\n",
      "23\n",
      "24\n",
      "25\n",
      "26\n",
      "27\n",
      "28\n",
      "29\n",
      "30\n",
      "31\n",
      "32\n",
      "33\n",
      "34\n",
      "35\n",
      "36\n",
      "37\n",
      "38\n",
      "39\n",
      "40\n",
      "41\n",
      "42\n",
      "43\n",
      "44\n",
      "45\n",
      "46\n",
      "47\n",
      "48\n",
      "49\n",
      "50\n",
      "51\n",
      "52\n",
      "53\n",
      "54\n",
      "55\n",
      "56\n",
      "57\n",
      "58\n",
      "59\n",
      "60\n",
      "61\n",
      "62\n",
      "63\n",
      "64\n",
      "65\n",
      "66\n",
      "67\n",
      "68\n",
      "69\n",
      "70\n",
      "71\n",
      "72\n",
      "73\n",
      "74\n",
      "75\n",
      "76\n",
      "77\n",
      "78\n",
      "79\n",
      "80\n",
      "81\n",
      "82\n",
      "83\n",
      "84\n",
      "85\n",
      "86\n",
      "87\n",
      "88\n",
      "89\n",
      "90\n",
      "91\n",
      "92\n",
      "93\n",
      "94\n",
      "95\n",
      "96\n",
      "97\n",
      "98\n",
      "99\n",
      "{'authors': ['Sinae RYOO'], 'title': 'Spring Orientation (15)', 'datePublished': '20190129-0131', 'url': ['https://core.ac.uk/display/213854370', 'https://archives.kdischool.ac.kr/handle/11125/31058']}\n"
     ]
    },
    {
     "data": {
      "text/plain": [
       "{'_shards': {'total': 2, 'successful': 1, 'failed': 0}}"
      ]
     },
     "execution_count": 11,
     "metadata": {},
     "output_type": "execute_result"
    }
   ],
   "source": [
    "es = Elasticsearch()\n",
    "\n",
    "for doc in range(len(cleaned_data)):\n",
    "    if doc == 100:\n",
    "        break\n",
    "    res = es.index(index=\"core\", id=doc, body=cleaned_data[doc])\n",
    "    print(doc)\n",
    "\n",
    "res = es.get(index=\"core\", id=2)\n",
    "print(res['_source'])\n",
    "\n",
    "es.indices.refresh(index=\"core\")"
   ]
  },
  {
   "cell_type": "code",
   "execution_count": 81,
   "metadata": {},
   "outputs": [
    {
     "name": "stdout",
     "output_type": "stream",
     "text": [
      "{'authors': [], 'title': \"Fonds d'archives Michel Jaffrennou. Archives Patrick Bousquet. Négatifs, planches contacts et diapositives. Oeuvres de Charlotte Moorman et Nam June Paik (planche-contact)\", 'description': \"Numérisation effectuée à partir d'un document original : DONAUD1409 -145.Voir les tirages réalisées d'après le même négatif sous la cote PHO DONAUD1409-131. Négatif sous la cote DONAUD1409 -145.\", 'datePublished': '19770101-19831231', 'url': ['https://core.ac.uk/display/202057447', 'http://gallica.bnf.fr/ark:/12148/btv1b53184848m', 'http://archivesetmanuscrits.bnf.fr/ark:/12148/cc103092g/ca19943598']}\n"
     ]
    }
   ],
   "source": [
    "res = es.get(index=\"core\", id=10)\n",
    "print(res['_source'])\n",
    "# es.indices.refresh(index='test-index')"
   ]
  },
  {
   "cell_type": "code",
   "execution_count": null,
   "metadata": {},
   "outputs": [],
   "source": []
  }
 ],
 "metadata": {
  "kernelspec": {
   "display_name": "Python 3",
   "language": "python",
   "name": "python3"
  },
  "language_info": {
   "codemirror_mode": {
    "name": "ipython",
    "version": 3
   },
   "file_extension": ".py",
   "mimetype": "text/x-python",
   "name": "python",
   "nbconvert_exporter": "python",
   "pygments_lexer": "ipython3",
   "version": "3.8.5"
  }
 },
 "nbformat": 4,
 "nbformat_minor": 4
}
